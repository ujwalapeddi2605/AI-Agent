{
  "nbformat": 4,
  "nbformat_minor": 0,
  "metadata": {
    "colab": {
      "provenance": []
    },
    "kernelspec": {
      "name": "python3",
      "display_name": "Python 3"
    },
    "language_info": {
      "name": "python"
    }
  },
  "cells": [
    {
      "cell_type": "code",
      "execution_count": null,
      "metadata": {
        "id": "MW_ygyzGoaLz"
      },
      "outputs": [],
      "source": [
        "import pandas as pd\n",
        "from sklearn.preprocessing import LabelEncoder\n",
        "from sklearn.ensemble import RandomForestClassifier\n",
        "from sklearn.model_selection import train_test_split\n",
        "from sklearn.metrics import classification_report\n",
        "\n",
        "# Step 1: Create a dummy dataset\n",
        "data = {\n",
        "    'Hospital': [\n",
        "        'CityCare', 'MetroHealth', 'LifeLine', 'HopeHosp', 'GreenMed',\n",
        "        'SunriseClinic', 'TrustHosp', 'HealWell', 'CarePlus', 'GlobalHealth'\n",
        "    ],\n",
        "    'BloodGroup': [\n",
        "        'A+', 'A-', 'B+', 'B-', 'AB+', 'AB-', 'O+', 'O-', 'A+', 'O+'\n",
        "    ],\n",
        "    'Disease': [\n",
        "        'Diabetes', 'Hypertension', 'Flu', 'Covid-19', 'Malaria',\n",
        "        'Asthma', 'Cancer', 'TB', 'Dengue', 'Chikungunya'\n",
        "    ],\n",
        "    'Condition': [\n",
        "        'Abnormal', 'Abnormal', 'Normal', 'Severe', 'Severe',\n",
        "        'Abnormal', 'Severe', 'Severe', 'Abnormal', 'Normal'\n",
        "    ]\n",
        "}\n",
        "\n",
        "df = pd.DataFrame(data)\n",
        "\n",
        "# Step 2: Encode categorical variables\n",
        "le_hospital = LabelEncoder()\n",
        "le_blood = LabelEncoder()\n",
        "le_disease = LabelEncoder()\n",
        "le_condition = LabelEncoder()\n",
        "\n",
        "df['Hospital_enc'] = le_hospital.fit_transform(df['Hospital'])\n",
        "df['BloodGroup_enc'] = le_blood.fit_transform(df['BloodGroup'])\n",
        "df['Disease_enc'] = le_disease.fit_transform(df['Disease'])\n",
        "df['Condition_enc'] = le_condition.fit_transform(df['Condition'])\n",
        "\n",
        "# Step 3: Prepare features and target\n",
        "X = df[['Hospital_enc', 'BloodGroup_enc', 'Disease_enc']]\n",
        "y = df['Condition_enc']\n",
        "\n",
        "# Step 4: Train model\n",
        "model = RandomForestClassifier()\n",
        "model.fit(X, y)\n",
        "\n",
        "# Step 5: Function to predict condition\n",
        "def predict_condition(hospital, blood_group, disease):\n",
        "    h = le_hospital.transform([hospital])[0]\n",
        "    b = le_blood.transform([blood_group])[0]\n",
        "    d = le_disease.transform([disease])[0]\n",
        "    prediction = model.predict([[h, b, d]])[0]\n",
        "    return le_condition.inverse_transform([prediction])[0]\n",
        "\n",
        "# Step 6: User Input\n",
        "if __name__ == \"__main__\":\n",
        "    print(\"Enter details to predict condition:\")\n",
        "    hospital = input(\"Hospital Name (e.g., CityCare): \")\n",
        "    blood_group = input(\"Blood Group (e.g., A+): \")\n",
        "    disease = input(\"Disease (e.g., Diabetes): \")\n",
        "\n",
        "    try:\n",
        "        result = predict_condition(hospital, blood_group, disease)\n",
        "        print(\"Predicted Condition:\", result)\n",
        "    except Exception as e:\n",
        "        print(\"Invalid input. Please ensure the values are in the dataset.\")\n"
      ]
    }
  ]
}